{
 "cells": [
  {
   "cell_type": "code",
   "execution_count": 1,
   "metadata": {},
   "outputs": [],
   "source": [
    "#استدعينا مكتبه chattervot المخصصه للشاتبوت \n",
    "#و استدعينا المكتبه الخاصه بالتدريب \n",
    "# عشان انا قعدت يوم كامل احاول اشغل المكتبه هسيب هنا كود pip الي اشتغل معايا \n",
    "#و ظهر ايرور os عشان كان في حاجه ناقصه و هسيب كود pip هسيب الكود بتاعه برضوا \n",
    "#pip install git+git://github.com/gunthercox/ChatterBot.git@master\n",
    "\n",
    "#python -m spacy download en\n",
    "\n",
    "from chatterbot import ChatBot\n",
    "from chatterbot.trainers import ListTrainer"
   ]
  },
  {
   "cell_type": "code",
   "execution_count": 2,
   "metadata": {},
   "outputs": [],
   "source": [
    "#انا عرفت شات بوت و اديته الارجيومنت الاساسيه بتاعته \n",
    "#المكونه من الاسم و شرط الترو عشان يفضل شغال علي الاسئله الي انا مديهاله \n",
    "#بمعني عشان ميتعلمش لوحده من الاسئله \n",
    "#chatterbot.logic.BestMatch ده عشان يختار افضل الردود المتطابقه \n",
    "#و ده عشان يقدر يتعامل مع الرياضيات \n",
    "#و  logic_adapters بتاعته \n",
    "my_bot = ChatBot(name='PyBot', read_only=True,\n",
    "                 logic_adapters=['chatterbot.logic.MathematicalEvaluation',\n",
    "                                 'chatterbot.logic.BestMatch'])"
   ]
  },
  {
   "cell_type": "code",
   "execution_count": 3,
   "metadata": {},
   "outputs": [],
   "source": [
    "#هنا انا اديته سياق الكلام و الرد الي هيرد بيه \n",
    "small_talk = ['hi there!',\n",
    "              'hi!',\n",
    "              'how do you do?',\n",
    "              'how are you?',\n",
    "              'i\\'m cool.',\n",
    "              'fine, you?',\n",
    "              'always cool.',\n",
    "              'i\\'m ok',\n",
    "              'glad to hear that.',\n",
    "              'i\\'m fine',\n",
    "              'glad to hear that.',\n",
    "              'i feel awesome',\n",
    "              'excellent, glad to hear that.',\n",
    "              'not so good',\n",
    "              'sorry to hear that.',\n",
    "              'what\\'s your name?',\n",
    "              'i\\'m pybot. ask me a math question, please.']\n",
    "#اقدر اضيف كذا كلاس \n",
    "#بكذا نوع الفكره في كميه الاسئله و الردود الي بديهاله \n",
    "math_talk_1 = ['pythagorean theorem',\n",
    "               'a squared plus b squared equals c squared.']\n",
    "math_talk_2 = ['law of cosines',\n",
    "               'c**2 = a**2 + b**2 - 2 * a * b * cos(gamma)']"
   ]
  },
  {
   "cell_type": "code",
   "execution_count": 4,
   "metadata": {},
   "outputs": [
    {
     "name": "stdout",
     "output_type": "stream",
     "text": [
      "List Trainer: [####################] 100%\n",
      "List Trainer: [####################] 100%\n",
      "List Trainer: [####################] 100%\n"
     ]
    }
   ],
   "source": [
    "# انا هنا بدرب الموديول بتاعي \n",
    "list_trainer = ListTrainer(my_bot)\n",
    "#هيلف في كل ليسته انا عاملها و يتدرب علي الاسئله و الاجوبه الي موجوده \n",
    "for item in (small_talk, math_talk_1, math_talk_2):\n",
    "    list_trainer.train(item)"
   ]
  },
  {
   "cell_type": "code",
   "execution_count": 5,
   "metadata": {},
   "outputs": [],
   "source": [
    "#البرنامج ده زي البرنامج الي قبله بس المرادي بدأنا نستخدم مكنبه \n",
    "#tkinter المخصصه لانشاء وجهات المستخدم \n",
    "#هي واجهة المستخدم الرسومية المعيارية الفعلية لبيثون\n",
    "import tkinter\n",
    "from tkinter import *"
   ]
  },
  {
   "cell_type": "code",
   "execution_count": 6,
   "metadata": {},
   "outputs": [],
   "source": [
    "#هنا الرساله بااخدها و بجيب الرد بتاعها \n",
    "#بعرف هنا send بتاع الرسايل عشان يبدا يعرف الاجابه \n",
    "def send():\n",
    "    msg = EntryBox.get(\"1.0\",'end-1c').strip()\n",
    "    EntryBox.delete(\"0.0\",END)\n",
    "\n",
    "    if msg != '':\n",
    "        ChatLog.config(state=NORMAL)\n",
    "        ChatLog.insert(END, \"You: \" + msg + '\\n\\n')\n",
    "        ChatLog.config(foreground=\"#442265\", font=(\"Verdana\", 12 ))\n",
    "    \n",
    "        res = chatbot_response(msg)\n",
    "        ChatLog.insert(END, \"Bot: \" + res + '\\n\\n')\n",
    "            \n",
    "        ChatLog.config(state=DISABLED)\n",
    "        ChatLog.yview(END)\n"
   ]
  },
  {
   "cell_type": "code",
   "execution_count": 7,
   "metadata": {},
   "outputs": [],
   "source": [
    "#بوديله رساله اول حاجه بعملها اني بيتوقع الرساله علي حسب الموديل بتاعي \n",
    "#تاني حاجه انه بيجيب الرد من الفانكشن الي قبلها \n",
    "def chatbot_response(msg):\n",
    "    ints = predict_class(msg, model)\n",
    "    res = getResponse(ints, intents)\n",
    "    return res"
   ]
  },
  {
   "cell_type": "code",
   "execution_count": 14,
   "metadata": {},
   "outputs": [],
   "source": [
    "# بدي للفانكشن الجمله و الموديل الي انا بنيته و هو بيعملي توقع \n",
    "# يجيب لكل احتمالاتها و باخد من الفانكشن الي قبلها و \n",
    "def predict_class(sentence, model):\n",
    "    p = bow(sentence, words,show_details=False)\n",
    "    res = model.predict(np.array([p]))[0]\n",
    "    ERROR_THRESHOLD = 0.25\n",
    "    results = [[i,r] for i,r in enumerate(res) if r>ERROR_THRESHOLD]\n",
    "    results.sort(key=lambda x: x[1], reverse=True)\n",
    "    return_list = []\n",
    "    for r in results:\n",
    "        return_list.append({\"intent\": classes[r[0]], \"probability\": str(r[1])})\n",
    "    return return_list"
   ]
  },
  {
   "cell_type": "code",
   "execution_count": 15,
   "metadata": {
    "scrolled": true
   },
   "outputs": [
    {
     "data": {
      "text/plain": [
       "''"
      ]
     },
     "execution_count": 15,
     "metadata": {},
     "output_type": "execute_result"
    }
   ],
   "source": [
    "#هنا ببدا اجهز ال gui بتاعي من حيث الاسم و المقاسات و \n",
    "#وبقوله انه حجم واحد مش بيكبر و يصغر \n",
    "base = Tk()\n",
    "base.title(\"Hello\")\n",
    "base.geometry(\"400x500\")\n",
    "base.resizable(width=FALSE, height=FALSE)\n"
   ]
  },
  {
   "cell_type": "code",
   "execution_count": 16,
   "metadata": {},
   "outputs": [],
   "source": [
    "#هنا بعمل الشكل الاساسي بتاعي\n",
    "ChatLog = Text(base, bd=0, bg=\"white\", height=\"8\", width=\"50\", font=\"Arial\",)\n",
    "ChatLog.config(state=DISABLED)\n"
   ]
  },
  {
   "cell_type": "code",
   "execution_count": 17,
   "metadata": {},
   "outputs": [],
   "source": [
    "#هنا بعمل الاسكورل الي بيطلع الصفحه فوق و تحت \n",
    "scrollbar = Scrollbar(base, command=ChatLog.yview, cursor=\"heart\")\n",
    "ChatLog['yscrollcommand'] = scrollbar.set"
   ]
  },
  {
   "cell_type": "code",
   "execution_count": 18,
   "metadata": {},
   "outputs": [],
   "source": [
    "#هنا بعمل زرار الي ايمه send\n",
    "SendButton = Button(base, font=(\"Verdana\",12,'bold'), text=\"Send\", width=\"12\", height=5,\n",
    "                    bd=0, bg=\"#32de97\", activebackground=\"#3c9d9b\",fg='#ffffff',\n",
    "                    command= send )"
   ]
  },
  {
   "cell_type": "code",
   "execution_count": 19,
   "metadata": {},
   "outputs": [],
   "source": [
    "#هنا بعمل البوكس الي بدخل فيه الكلام \n",
    "EntryBox = Text(base, bd=0, bg=\"white\",width=\"29\", height=\"5\", font=\"Arial\")\n"
   ]
  },
  {
   "cell_type": "code",
   "execution_count": 20,
   "metadata": {},
   "outputs": [
    {
     "name": "stderr",
     "output_type": "stream",
     "text": [
      "Exception in Tkinter callback\n",
      "Traceback (most recent call last):\n",
      "  File \"C:\\Users\\Ahmed\\Anaconda3\\lib\\tkinter\\__init__.py\", line 1705, in __call__\n",
      "    return self.func(*args)\n",
      "  File \"<ipython-input-6-26470783d365>\", line 12, in send\n",
      "    res = chatbot_response(msg)\n",
      "  File \"<ipython-input-7-ae1fef1016e6>\", line 4, in chatbot_response\n",
      "    ints = predict_class(msg, model)\n",
      "NameError: name 'model' is not defined\n"
     ]
    }
   ],
   "source": [
    "#هنا بدأت ادمج الحجات الي انا عملتها فوق مع بعض عشان اطلع الشكل النهائي بتاعي\n",
    "scrollbar.place(x=376,y=6, height=386)\n",
    "ChatLog.place(x=6,y=6, height=386, width=370)\n",
    "EntryBox.place(x=128, y=401, height=90, width=265)\n",
    "SendButton.place(x=6, y=401, height=90)\n",
    "\n",
    "base.mainloop()\n"
   ]
  },
  {
   "cell_type": "code",
   "execution_count": null,
   "metadata": {},
   "outputs": [],
   "source": []
  },
  {
   "cell_type": "code",
   "execution_count": null,
   "metadata": {},
   "outputs": [],
   "source": []
  }
 ],
 "metadata": {
  "kernelspec": {
   "display_name": "Python 3",
   "language": "python",
   "name": "python3"
  },
  "language_info": {
   "codemirror_mode": {
    "name": "ipython",
    "version": 3
   },
   "file_extension": ".py",
   "mimetype": "text/x-python",
   "name": "python",
   "nbconvert_exporter": "python",
   "pygments_lexer": "ipython3",
   "version": "3.7.3"
  }
 },
 "nbformat": 4,
 "nbformat_minor": 4
}

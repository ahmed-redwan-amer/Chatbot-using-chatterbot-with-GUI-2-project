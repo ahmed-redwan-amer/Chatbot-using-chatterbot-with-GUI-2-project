{
 "cells": [
  {
   "cell_type": "code",
   "execution_count": 1,
   "metadata": {},
   "outputs": [],
   "source": [
    "#استدعينا مكتبه chattervot المخصصه للشاتبوت \n",
    "#و استدعينا المكتبه الخاصه بالتدريب \n",
    "# عشان انا قعدت يوم كامل احاول اشغل المكتبه هسيب هنا كود pip الي اشتغل معايا \n",
    "#و ظهر ايرور os عشان كان في حاجه ناقصه و هسيب كود pip هسيب الكود بتاعه برضوا \n",
    "#pip install git+git://github.com/gunthercox/ChatterBot.git@master\n",
    "\n",
    "#python -m spacy download en\n",
    "\n",
    "from chatterbot import ChatBot\n",
    "from chatterbot.trainers import ListTrainer"
   ]
  },
  {
   "cell_type": "code",
   "execution_count": 2,
   "metadata": {},
   "outputs": [],
   "source": [
    "#انا عرفت شات بوت و اديته الارجيومنت الاساسيه بتاعته \n",
    "#المكونه من الاسم و شرط الترو عشان يفضل شغال علي الاسئله الي انا مديهاله \n",
    "#بمعني عشان ميتعلمش لوحده من الاسئله \n",
    "#chatterbot.logic.BestMatch ده عشان يختار افضل الردود المتطابقه \n",
    "#و ده عشان يقدر يتعامل مع الرياضيات \n",
    "#و  logic_adapters بتاعته \n",
    "my_bot = ChatBot(name='PyBot', read_only=True,\n",
    "                 logic_adapters=['chatterbot.logic.MathematicalEvaluation',\n",
    "                                 'chatterbot.logic.BestMatch'])"
   ]
  },
  {
   "cell_type": "code",
   "execution_count": 3,
   "metadata": {},
   "outputs": [],
   "source": [
    "#هنا انا اديته سياق الكلام و الرد الي هيرد بيه \n",
    "small_talk = ['hi there!',\n",
    "              'hi!',\n",
    "              'how do you do?',\n",
    "              'how are you?',\n",
    "              'i\\'m cool.',\n",
    "              'fine, you?',\n",
    "              'always cool.',\n",
    "              'i\\'m ok',\n",
    "              'glad to hear that.',\n",
    "              'i\\'m fine',\n",
    "              'glad to hear that.',\n",
    "              'i feel awesome',\n",
    "              'excellent, glad to hear that.',\n",
    "              'not so good',\n",
    "              'sorry to hear that.',\n",
    "              'what\\'s your name?',\n",
    "              'i\\'m pybot. ask me a math question, please.']\n",
    "#اقدر اضيف كذا كلاس \n",
    "#بكذا نوع الفكره في كميه الاسئله و الردود الي بديهاله \n",
    "math_talk_1 = ['pythagorean theorem',\n",
    "               'a squared plus b squared equals c squared.']\n",
    "math_talk_2 = ['law of cosines',\n",
    "               'c**2 = a**2 + b**2 - 2 * a * b * cos(gamma)']"
   ]
  },
  {
   "cell_type": "code",
   "execution_count": 4,
   "metadata": {},
   "outputs": [
    {
     "name": "stdout",
     "output_type": "stream",
     "text": [
      "List Trainer: [####################] 100%\n",
      "List Trainer: [####################] 100%\n",
      "List Trainer: [####################] 100%\n"
     ]
    }
   ],
   "source": [
    "# انا هنا بدرب الموديول بتاعي \n",
    "list_trainer = ListTrainer(my_bot)\n",
    "#هيلف في كل ليسته انا عاملها و يتدرب علي الاسئله و الاجوبه الي موجوده \n",
    "for item in (small_talk, math_talk_1, math_talk_2):\n",
    "    list_trainer.train(item)"
   ]
  },
  {
   "cell_type": "code",
   "execution_count": 6,
   "metadata": {},
   "outputs": [
    {
     "name": "stdout",
     "output_type": "stream",
     "text": [
      "how do you do?\n"
     ]
    }
   ],
   "source": [
    "# باستخدام فانكشن get_response هيبدا يرد عليا من الاجابات الي انا حاططها  \n",
    "print(my_bot.get_response(\"hi\"))\n"
   ]
  },
  {
   "cell_type": "code",
   "execution_count": 7,
   "metadata": {},
   "outputs": [
    {
     "name": "stdout",
     "output_type": "stream",
     "text": [
      "excellent, glad to hear that.\n"
     ]
    }
   ],
   "source": [
    "print(my_bot.get_response(\"i feel awesome today\"))"
   ]
  },
  {
   "cell_type": "code",
   "execution_count": 8,
   "metadata": {},
   "outputs": [
    {
     "name": "stdout",
     "output_type": "stream",
     "text": [
      "i'm pybot. ask me a math question, please.\n"
     ]
    }
   ],
   "source": [
    "print(my_bot.get_response(\"what's your name?\"))"
   ]
  },
  {
   "cell_type": "code",
   "execution_count": 9,
   "metadata": {},
   "outputs": [
    {
     "name": "stdout",
     "output_type": "stream",
     "text": [
      "a squared plus b squared equals c squared.\n"
     ]
    }
   ],
   "source": [
    "print(my_bot.get_response(\"show me the pythagorean theorem\"))"
   ]
  },
  {
   "cell_type": "code",
   "execution_count": 10,
   "metadata": {},
   "outputs": [
    {
     "name": "stdout",
     "output_type": "stream",
     "text": [
      "c**2 = a**2 + b**2 - 2 * a * b * cos(gamma)\n"
     ]
    }
   ],
   "source": [
    "print(my_bot.get_response(\"do you know the law of cosines?\"))"
   ]
  },
  {
   "cell_type": "code",
   "execution_count": null,
   "metadata": {},
   "outputs": [],
   "source": [
    "# البرنامج ده ضعيف نسبيا لانه بيعتمد علي فانكشن البرنت "
   ]
  }
 ],
 "metadata": {
  "kernelspec": {
   "display_name": "Python 3",
   "language": "python",
   "name": "python3"
  },
  "language_info": {
   "codemirror_mode": {
    "name": "ipython",
    "version": 3
   },
   "file_extension": ".py",
   "mimetype": "text/x-python",
   "name": "python",
   "nbconvert_exporter": "python",
   "pygments_lexer": "ipython3",
   "version": "3.7.3"
  }
 },
 "nbformat": 4,
 "nbformat_minor": 4
}
